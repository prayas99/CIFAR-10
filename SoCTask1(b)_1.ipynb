{
  "nbformat": 4,
  "nbformat_minor": 0,
  "metadata": {
    "colab": {
      "name": "SoCTask1(b)-1.ipynb",
      "provenance": [],
      "collapsed_sections": [],
      "mount_file_id": "10ZMXAX3un1gmzD2M8foqX5A19xMKzauB",
      "authorship_tag": "ABX9TyOzW8pmubA3LiloagowMxxn"
    },
    "kernelspec": {
      "name": "python3",
      "display_name": "Python 3"
    },
    "accelerator": "GPU"
  },
  "cells": [
    {
      "cell_type": "markdown",
      "metadata": {
        "id": "9hdZbjSZ7s-u",
        "colab_type": "text"
      },
      "source": [
        "# Importing libraries"
      ]
    },
    {
      "cell_type": "code",
      "metadata": {
        "id": "5XEhFtJf3wtg",
        "colab_type": "code",
        "colab": {}
      },
      "source": [
        "import torch\n",
        "from torchvision import datasets, transforms\n",
        "import numpy as np\n",
        "import matplotlib.pyplot as plt\n",
        "from torch import nn, optim\n",
        "import torch.nn.functional as F\n",
        "import os.path\n",
        "\n",
        "resume_weights = \"/content/drive/My Drive/22-2/checkpoint_CIFAR_2.pth.tar\"\n",
        "cuda = torch.cuda.is_available()"
      ],
      "execution_count": 0,
      "outputs": []
    },
    {
      "cell_type": "code",
      "metadata": {
        "id": "oVR-h19U5qPr",
        "colab_type": "code",
        "colab": {}
      },
      "source": [
        "transform = transforms.Compose([transforms.ToTensor(), \n",
        "                                  transforms.Normalize((0.5,0.5,0.5), (0.5,0.5,0.5)) ])"
      ],
      "execution_count": 0,
      "outputs": []
    },
    {
      "cell_type": "markdown",
      "metadata": {
        "id": "aONgPJ5D7z8T",
        "colab_type": "text"
      },
      "source": [
        "# Preparing data"
      ]
    },
    {
      "cell_type": "code",
      "metadata": {
        "id": "Daoyp308uWYZ",
        "colab_type": "code",
        "colab": {}
      },
      "source": [
        "torch.backends.cudnn.deterministic = True\n",
        "torch.manual_seed(1)\n",
        "torch.cuda.manual_seed(1)\n",
        "np.random.seed(1)"
      ],
      "execution_count": 0,
      "outputs": []
    },
    {
      "cell_type": "code",
      "metadata": {
        "id": "6SnntGxv6MIl",
        "colab_type": "code",
        "colab": {
          "base_uri": "https://localhost:8080/",
          "height": 50
        },
        "outputId": "b3452c34-bca8-4e53-fbc9-9aeaf801a691"
      },
      "source": [
        "trainset = datasets.CIFAR10('/data', download=True, train=True, transform=transform)\n",
        "testset = datasets.CIFAR10('/data', download=True, train=False, transform=transform)\n",
        "\n",
        "trainloader = torch.utils.data.DataLoader(trainset, batch_size=4, shuffle=True)\n",
        "testloader = torch.utils.data.DataLoader(testset, batch_size=4, shuffle=True)\n",
        "\n",
        "classes = ('plane', 'car', 'bird', 'cat',\n",
        "           'deer', 'dog', 'frog', 'horse', 'ship', 'truck')"
      ],
      "execution_count": 38,
      "outputs": [
        {
          "output_type": "stream",
          "text": [
            "Files already downloaded and verified\n",
            "Files already downloaded and verified\n"
          ],
          "name": "stdout"
        }
      ]
    },
    {
      "cell_type": "code",
      "metadata": {
        "id": "VP6u1E6I7FH3",
        "colab_type": "code",
        "outputId": "56f9c1f3-9787-4da6-876d-f581adddd492",
        "colab": {
          "base_uri": "https://localhost:8080/",
          "height": 67
        }
      },
      "source": [
        "dataiter = iter(trainloader)\n",
        "images, labels = dataiter.next()\n",
        "\n",
        "print(images.shape)\n",
        "print(labels.shape)\n",
        "print(labels)"
      ],
      "execution_count": 39,
      "outputs": [
        {
          "output_type": "stream",
          "text": [
            "torch.Size([4, 3, 32, 32])\n",
            "torch.Size([4])\n",
            "tensor([0, 5, 4, 4])\n"
          ],
          "name": "stdout"
        }
      ]
    },
    {
      "cell_type": "code",
      "metadata": {
        "id": "WUtNQNimxHFY",
        "colab_type": "code",
        "outputId": "2e1855df-72cd-490c-9d1f-99b9031af586",
        "colab": {
          "base_uri": "https://localhost:8080/",
          "height": 34
        }
      },
      "source": [
        "print(images[0].shape)"
      ],
      "execution_count": 40,
      "outputs": [
        {
          "output_type": "stream",
          "text": [
            "torch.Size([3, 32, 32])\n"
          ],
          "name": "stdout"
        }
      ]
    },
    {
      "cell_type": "code",
      "metadata": {
        "id": "WawJ0XyP7mnC",
        "colab_type": "code",
        "outputId": "07364b36-fd5c-42b5-f65e-83ff9c945676",
        "colab": {
          "base_uri": "https://localhost:8080/",
          "height": 283
        }
      },
      "source": [
        "npimg = images[0]\n",
        "npimg = npimg/2 + 0.5\n",
        "plt.imshow(np.transpose(npimg, (1,2,0)))"
      ],
      "execution_count": 41,
      "outputs": [
        {
          "output_type": "execute_result",
          "data": {
            "text/plain": [
              "<matplotlib.image.AxesImage at 0x7f31619f0828>"
            ]
          },
          "metadata": {
            "tags": []
          },
          "execution_count": 41
        },
        {
          "output_type": "display_data",
          "data": {
            "image/png": "[encoded data removed]",
            "text/plain": [
              "<Figure size 432x288 with 1 Axes>"
            ]
          },
          "metadata": {
            "tags": [],
            "needs_background": "light"
          }
        }
      ]
    },
    {
      "cell_type": "code",
      "metadata": {
        "id": "kmDYg-CBctR_",
        "colab_type": "code",
        "colab": {}
      },
      "source": [
        "best_accuracy = torch.FloatTensor([0])\n",
        "start_epoch = 0"
      ],
      "execution_count": 0,
      "outputs": []
    },
    {
      "cell_type": "code",
      "metadata": {
        "id": "TjDZDxxB8llF",
        "colab_type": "code",
        "outputId": "64c58356-75bb-475e-ceb0-9c5172c28868",
        "colab": {
          "base_uri": "https://localhost:8080/",
          "height": 76
        }
      },
      "source": [
        "num_of_images = 4\n",
        "for index in range(1, num_of_images+1):\n",
        "  plt.subplot(6,10,index)\n",
        "  plt.axis('off')\n",
        "  #print(classes[labels[index-1]])\n",
        "  npimg = images[index-1]\n",
        "  npimg = npimg/2 + 0.5\n",
        "  plt.imshow(np.transpose(npimg, (1,2,0)))\n",
        "print(' '.join('%5s' % classes[labels[j]] for j in range(4)))"
      ],
      "execution_count": 43,
      "outputs": [
        {
          "output_type": "stream",
          "text": [
            "plane   dog  deer  deer\n"
          ],
          "name": "stdout"
        },
        {
          "output_type": "display_data",
          "data": {
            "image/png": "[encoded data removed]",
            "text/plain": [
              "<Figure size 432x288 with 4 Axes>"
            ]
          },
          "metadata": {
            "tags": [],
            "needs_background": "light"
          }
        }
      ]
    },
    {
      "cell_type": "markdown",
      "metadata": {
        "id": "1C4XiYJnv_-k",
        "colab_type": "text"
      },
      "source": [
        "# Defining the Network"
      ]
    },
    {
      "cell_type": "code",
      "metadata": {
        "id": "HN05GdwVmQsR",
        "colab_type": "code",
        "colab": {
          "base_uri": "https://localhost:8080/",
          "height": 34
        },
        "outputId": "609235d6-f7d1-4226-fe4f-2dd024efd4be"
      },
      "source": [
        "device = torch.device(\"cuda:0\" if torch.cuda.is_available() else \"cpu\")\n",
        "\n",
        "print(device)"
      ],
      "execution_count": 44,
      "outputs": [
        {
          "output_type": "stream",
          "text": [
            "cuda:0\n"
          ],
          "name": "stdout"
        }
      ]
    },
    {
      "cell_type": "code",
      "metadata": {
        "id": "HHfeFq2Fv8nE",
        "colab_type": "code",
        "colab": {
          "base_uri": "https://localhost:8080/",
          "height": 185
        },
        "outputId": "35d4134a-d23f-4d01-c983-b926c54f908b"
      },
      "source": [
        "class Net(nn.Module):\n",
        "  def __init__(self):\n",
        "    super(Net, self).__init__()\n",
        "    self.conv1 = nn.Conv2d(3,32,3)\n",
        "    self.conv2 = nn.Conv2d(32,32,3)\n",
        "    self.bn1 = nn.BatchNorm2d(32)\n",
        "    self.pool = nn.MaxPool2d(2,2)\n",
        "    self.drop = nn.Dropout(0.2)\n",
        "    self.drop2 = nn.Dropout(0.5)\n",
        "    self.fc1 = nn.Linear(14*14*32,512)\n",
        "    self.fc2 = nn.Linear(512,10)\n",
        "  \n",
        "  def forward(self,x):\n",
        "    x = self.drop(F.relu(self.bn1(self.conv1(x))))\n",
        "    x = self.pool(F.relu(self.bn1(self.conv2(x))))\n",
        "    x = x.view(-1,14*14*32)\n",
        "    x = F.relu(self.fc1(x))\n",
        "    x = self.drop2(x)\n",
        "    x = self.fc2(x)\n",
        "    x = F.log_softmax(x,dim=1)\n",
        "    return x\n",
        "\n",
        "net = Net()\n",
        "net.to(device)"
      ],
      "execution_count": 45,
      "outputs": [
        {
          "output_type": "execute_result",
          "data": {
            "text/plain": [
              "Net(\n",
              "  (conv1): Conv2d(3, 32, kernel_size=(3, 3), stride=(1, 1))\n",
              "  (conv2): Conv2d(32, 32, kernel_size=(3, 3), stride=(1, 1))\n",
              "  (bn1): BatchNorm2d(32, eps=1e-05, momentum=0.1, affine=True, track_running_stats=True)\n",
              "  (pool): MaxPool2d(kernel_size=2, stride=2, padding=0, dilation=1, ceil_mode=False)\n",
              "  (drop): Dropout(p=0.2, inplace=False)\n",
              "  (drop2): Dropout(p=0.5, inplace=False)\n",
              "  (fc1): Linear(in_features=6272, out_features=512, bias=True)\n",
              "  (fc2): Linear(in_features=512, out_features=10, bias=True)\n",
              ")"
            ]
          },
          "metadata": {
            "tags": []
          },
          "execution_count": 45
        }
      ]
    },
    {
      "cell_type": "code",
      "metadata": {
        "id": "HrsdZK1tyqu7",
        "colab_type": "code",
        "colab": {}
      },
      "source": [
        "criterion = nn.CrossEntropyLoss()\n",
        "#criterion = nn.NLLLoss()\n",
        "optimizer = optim.SGD(net.parameters(),lr = 0.01)"
      ],
      "execution_count": 0,
      "outputs": []
    },
    {
      "cell_type": "markdown",
      "metadata": {
        "id": "ezRdLAKaeO78",
        "colab_type": "text"
      },
      "source": [
        "# Saving model"
      ]
    },
    {
      "cell_type": "code",
      "metadata": {
        "id": "oOt6ELMzdUD6",
        "colab_type": "code",
        "colab": {}
      },
      "source": [
        "def save_checkpoint(state, is_best, filename = resume_weights):\n",
        "    if is_best:\n",
        "        print (\"=> Saving a new best\")\n",
        "        torch.save(state, filename)  # save checkpoint\n",
        "    else:\n",
        "        print (\"=> Validation Accuracy did not improve\")"
      ],
      "execution_count": 0,
      "outputs": []
    },
    {
      "cell_type": "code",
      "metadata": {
        "id": "ZNuaBIeIn8qZ",
        "colab_type": "code",
        "outputId": "e7e9b2e8-66e2-436a-a008-0952aef51f64",
        "colab": {
          "base_uri": "https://localhost:8080/",
          "height": 50
        }
      },
      "source": [
        "if os.path.isfile(resume_weights):\n",
        "    print(\"=> loading checkpoint '{}' ...\".format(resume_weights))\n",
        "    #if cuda:\n",
        "    checkpoint = torch.load(resume_weights)\n",
        "    #else:\n",
        "     #   checkpoint = torch.load(resume_weights,\n",
        "      #                          map_location=lambda storage,\n",
        "       #                         loc: storage)\n",
        "    start_epoch = checkpoint['epoch']\n",
        "    best_accuracy = checkpoint['best_accuracy']\n",
        "    print('=> loaded checkpoint {} (trained for {} epochs) with {:.4}% test accuracy'.format(resume_weights,\n",
        "        checkpoint['epoch'],100 * best_accuracy.numpy()[0]))\n",
        "    net.load_state_dict(checkpoint['state_dict'])\n",
        "else:print(\"no\") "
      ],
      "execution_count": 48,
      "outputs": [
        {
          "output_type": "stream",
          "text": [
            "=> loading checkpoint '/content/drive/My Drive/22-2/checkpoint_CIFAR_2.pth.tar' ...\n",
            "=> loaded checkpoint /content/drive/My Drive/22-2/checkpoint_CIFAR_2.pth.tar (trained for 4 epochs) with 69.62% test accuracy\n"
          ],
          "name": "stdout"
        }
      ]
    },
    {
      "cell_type": "markdown",
      "metadata": {
        "id": "C5tdsO1NZbhS",
        "colab_type": "text"
      },
      "source": [
        "# Forward loop"
      ]
    },
    {
      "cell_type": "code",
      "metadata": {
        "id": "uuEE4-Ce87QN",
        "colab_type": "code",
        "colab": {}
      },
      "source": [
        "def eval():\n",
        "  net.eval()\n",
        "  correct = 0\n",
        "  total = 0\n",
        "  with torch.no_grad():\n",
        "   for data in testloader:\n",
        "     images, labels = data[0].to(device), data[1].to(device)\n",
        "     outputs = net(images)\n",
        "     _, predicted = torch.max(outputs,1)\n",
        "     total += labels.size(0)\n",
        "     correct  += (predicted == labels).sum().item()\n",
        "\n",
        "  acc = correct/total\n",
        "#print('Accuracy of the network over 10000 test images: %d %%' %(100  * correct/total))\n",
        "  return acc"
      ],
      "execution_count": 0,
      "outputs": []
    },
    {
      "cell_type": "code",
      "metadata": {
        "id": "gyRdvcuQZGq1",
        "colab_type": "code",
        "outputId": "4f7e49ac-3f36-4db3-9667-9896c8ded455",
        "colab": {
          "base_uri": "https://localhost:8080/",
          "height": 302
        }
      },
      "source": [
        "for epochs in range(1,3):\n",
        "\n",
        "  running_loss = 0.0\n",
        "  correct= 0\n",
        "  total = 0\n",
        "\n",
        "  for i, data in enumerate(trainloader,0):\n",
        "      inputs, labels = data[0].to(device), data[1].to(device)\n",
        "      \n",
        "      optimizer.zero_grad()\n",
        "      outputs = net(inputs)\n",
        "      loss = criterion(outputs,labels)\n",
        "      loss.backward()\n",
        "      optimizer.step()\n",
        "\n",
        "      _, predicted = torch.max(outputs.data,1)\n",
        "      total += labels.size(0)\n",
        "      correct += (predicted == labels).sum().item()\n",
        "\n",
        "      \n",
        "\n",
        "      running_loss += loss.item()\n",
        "      if i % 2000 == 1999:\n",
        "            print('[%d, %5d] loss : %.3f acc: %.3f %%' % (epochs, i+1, running_loss/2000, correct/total *100))\n",
        "            running_loss = 0.0\n",
        "            correct = 0\n",
        "            total = 0\n",
        "  acc1 = eval()\n",
        "  print ('epoch: %d acc_test: %.3f %%' % (epochs, acc1*100))\n",
        "  acc1 = torch.FloatTensor([acc1])\n",
        "  is_best = bool(acc1.numpy() > best_accuracy.numpy())\n",
        "  best_accuracy = torch.FloatTensor(max(acc1.numpy(), best_accuracy.numpy()))\n",
        "  save_checkpoint({\n",
        "      'epoch' : start_epoch + epochs,\n",
        "      'state_dict' : net.state_dict(),\n",
        "      'best_accuracy' : best_accuracy\n",
        "      }, is_best)\n",
        "  \n",
        "print('Finished training')"
      ],
      "execution_count": 52,
      "outputs": [
        {
          "output_type": "stream",
          "text": [
            "[1,  2000] loss : 0.452 acc: 84.763 %\n",
            "[1,  4000] loss : 0.414 acc: 85.600 %\n",
            "[1,  6000] loss : 0.407 acc: 86.037 %\n",
            "[1,  8000] loss : 0.420 acc: 85.088 %\n",
            "[1, 10000] loss : 0.410 acc: 85.825 %\n",
            "[1, 12000] loss : 0.409 acc: 85.500 %\n",
            "epoch: 1 acc_test: 70.050 %\n",
            "=> Saving a new best\n",
            "[2,  2000] loss : 0.170 acc: 94.688 %\n",
            "[2,  4000] loss : 0.190 acc: 93.337 %\n",
            "[2,  6000] loss : 0.223 acc: 91.888 %\n",
            "[2,  8000] loss : 0.231 acc: 92.138 %\n",
            "[2, 10000] loss : 0.271 acc: 90.700 %\n",
            "[2, 12000] loss : 0.267 acc: 90.825 %\n",
            "epoch: 2 acc_test: 69.010 %\n",
            "=> Validation Accuracy did not improve\n",
            "Finished training\n"
          ],
          "name": "stdout"
        }
      ]
    },
    {
      "cell_type": "code",
      "metadata": {
        "id": "nA6ZuCgffuLB",
        "colab_type": "code",
        "colab": {}
      },
      "source": [
        ""
      ],
      "execution_count": 0,
      "outputs": []
    },
    {
      "cell_type": "code",
      "metadata": {
        "id": "DWoL_j62_EoZ",
        "colab_type": "code",
        "colab": {}
      },
      "source": [
        ""
      ],
      "execution_count": 0,
      "outputs": []
    }
  ]
}